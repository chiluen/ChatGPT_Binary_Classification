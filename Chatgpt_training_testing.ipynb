{
 "cells": [
  {
   "cell_type": "code",
   "execution_count": 56,
   "id": "353780e9",
   "metadata": {},
   "outputs": [],
   "source": [
    "import pandas as pd\n",
    "import openai\n",
    "import time\n",
    "from tqdm import tqdm\n",
    "from collections import Counter\n",
    "\n",
    "api_key = \"xxx\"\n"
   ]
  },
  {
   "cell_type": "markdown",
   "id": "037d9f2f",
   "metadata": {},
   "source": [
    "## 檔案前處理"
   ]
  },
  {
   "cell_type": "code",
   "execution_count": 22,
   "id": "e571a0b5",
   "metadata": {},
   "outputs": [],
   "source": [
    "# get the dataset\n",
    "df = pd.read_csv('COS_train.csv')\n",
    "texts = [text.strip() for text in df[\"sentence\"]]\n",
    "labels = df[\"label\"]\n",
    "df_preprocess = pd.DataFrame(zip(texts, labels), columns = ['prompt','completion'])"
   ]
  },
  {
   "cell_type": "code",
   "execution_count": 27,
   "id": "fcb30e75",
   "metadata": {},
   "outputs": [],
   "source": [
    "# store info\n",
    "df_preprocess.to_json(\"train.json\", orient='records', lines=True)"
   ]
  },
  {
   "cell_type": "markdown",
   "id": "de1613f5",
   "metadata": {},
   "source": [
    "## 丟到open AI進行訓練"
   ]
  },
  {
   "cell_type": "code",
   "execution_count": 1,
   "id": "afe45848",
   "metadata": {},
   "outputs": [
    {
     "data": {
      "text/plain": [
       "'\\n將training檔案照openai的建議做前處理\\n-> openai tools fine_tunes.prepare_data -f train.json\\n\\n\\nFinetune openai 模型\\n-> openai --api-key \\'xxx\\' api fine_tunes.create \\n       -t \"train_prepared_train.jsonl\" -v \"train_prepared_valid.jsonl\" \\n       --compute_classification_metrics --classification_positive_class \" 1項\" \\n       -m ada\\n\\n'"
      ]
     },
     "execution_count": 1,
     "metadata": {},
     "output_type": "execute_result"
    }
   ],
   "source": [
    "# under bash environment\n",
    "\"\"\"\n",
    "將training檔案照openai的建議做前處理\n",
    "-> openai tools fine_tunes.prepare_data -f train.json\n",
    "\n",
    "\n",
    "Finetune openai 模型\n",
    "-> openai --api-key 'xxx' api fine_tunes.create \n",
    "       -t \"train_prepared_train.jsonl\" -v \"train_prepared_valid.jsonl\" \n",
    "       --compute_classification_metrics --classification_positive_class \" 1項\" \n",
    "       -m ada\n",
    "\n",
    "\"\"\""
   ]
  },
  {
   "cell_type": "code",
   "execution_count": null,
   "id": "faad38de",
   "metadata": {},
   "outputs": [],
   "source": [
    "#確認目前training status\n",
    "openai.api_key = api_key\n",
    "result = openai.FineTune.list()"
   ]
  },
  {
   "cell_type": "markdown",
   "id": "28e5e9c8",
   "metadata": {},
   "source": [
    "## Testing"
   ]
  },
  {
   "cell_type": "code",
   "execution_count": 65,
   "id": "9acfd70e",
   "metadata": {},
   "outputs": [],
   "source": [
    "df = pd.read_csv('COS_test.csv')\n",
    "test_texts = [text.strip() for text in df['sentence']]"
   ]
  },
  {
   "cell_type": "code",
   "execution_count": 61,
   "id": "4e3497c0",
   "metadata": {},
   "outputs": [
    {
     "name": "stderr",
     "output_type": "stream",
     "text": [
      "100%|█████████████████████████████████████████| 100/100 [01:29<00:00,  1.11it/s]\n"
     ]
    }
   ],
   "source": [
    "ans = []\n",
    "\n",
    "ft_model = 'ada:ft-personal-2023-05-10-07-16-58' #我們的特定id\n",
    "for i in tqdm(range(len(test_texts))):\n",
    "    sample_input = test_texts[i]\n",
    "    res = openai.Completion.create(model=ft_model, prompt=sample_input, max_tokens=4, temperature=0, logprobs=2)\n",
    "    if res['choices'][0]['text'] == \" 1項\":\n",
    "        ans.append(0)\n",
    "    else:\n",
    "        ans.append(1)\n",
    "    time.sleep(0.5)"
   ]
  },
  {
   "cell_type": "code",
   "execution_count": 63,
   "id": "cc55ebf7",
   "metadata": {},
   "outputs": [
    {
     "data": {
      "text/plain": [
       "Counter({0: 69, 1: 31})"
      ]
     },
     "execution_count": 63,
     "metadata": {},
     "output_type": "execute_result"
    }
   ],
   "source": [
    "# show the statics\n",
    "Counter(ans)"
   ]
  },
  {
   "cell_type": "code",
   "execution_count": 69,
   "id": "3630f46e",
   "metadata": {},
   "outputs": [],
   "source": [
    "df['label_for_kaggle'] = ans\n",
    "df = df.drop(['sentence'], axis=1)\n",
    "df.to_csv('result.csv', index=False)"
   ]
  }
 ],
 "metadata": {
  "kernelspec": {
   "display_name": "Python 3 (ipykernel)",
   "language": "python",
   "name": "python3"
  },
  "language_info": {
   "codemirror_mode": {
    "name": "ipython",
    "version": 3
   },
   "file_extension": ".py",
   "mimetype": "text/x-python",
   "name": "python",
   "nbconvert_exporter": "python",
   "pygments_lexer": "ipython3",
   "version": "3.9.12"
  }
 },
 "nbformat": 4,
 "nbformat_minor": 5
}
